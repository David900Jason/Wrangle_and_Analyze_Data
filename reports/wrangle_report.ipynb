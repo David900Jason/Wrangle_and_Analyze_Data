{
 "cells": [
  {
   "cell_type": "markdown",
   "metadata": {},
   "source": [
    "<h1 style=\"color: orange\">Wrangle report</h1>"
   ]
  },
  {
   "cell_type": "markdown",
   "metadata": {
    "jp-MarkdownHeadingCollapsed": true
   },
   "source": [
    "<h2 style=\"color: green\">Introduction</h2>\n",
    "\n",
    "This project is about a dataset called `WeRateDogs`. and as project requirements imply, I needed to perform a complete data analysis process starting from data gathering, wrangling and ending with EDA.\n",
    "\n",
    "<h3 style=\"color: green\">Goals</h3>\n",
    "\n",
    "* Perform a full data analysis process.\n",
    "* Gather data from different resources.\n",
    "* Explore real data.\n",
    "* Use Programmatic and Visual Assessment to assess data.\n",
    "* Explore the popularity of this Twitter account more deeply."
   ]
  },
  {
   "cell_type": "markdown",
   "metadata": {},
   "source": [
    "<h2 style=\"color: green\">Data gathering 🔥</h2>\n",
    "\n",
    "I was provided with three datasets related to this Twitter Account from different resources and formats.\n",
    "\n",
    "* `twitter-archive-enhanced.csv`: A Twitter archive containing all of the dataset information about tweets like (timestamp, id, retweets, ...etc).\n",
    "* `image-predictions.tsv`: Installed programmatically from a link, and read using pandas function `read_csv()` and they're results from an AI Model for image predictions with different percentages.\n",
    "* `tweet-json.txt`: Used the Twitter API to extract information about tweets"
   ]
  },
  {
   "cell_type": "markdown",
   "metadata": {},
   "source": [
    "<h2 style=\"color: green\">Assessing 👀</h2>\n",
    "\n",
    "I performed this assessment using programmatic and visual approaches. using programs like **Excel**\n",
    "\n",
    "### Assessment Report\n",
    "Using Assessment methods, I've found many issues regarding the three datasets and and by using programmatic methods We found that:\n",
    "<br>\n",
    "<br>\n",
    "\n",
    "**Quality Issues**\n",
    "1. Missing Values in many values.\n",
    "2. Inconsitent dog names.\n",
    "3. Change Index Names\n",
    "4. Non-Dog Tweets.\n",
    "5. Inconsistent Stage Information.\n",
    "6. Retweet and Reply Data Irrelevance.\n",
    "7. Incorrect Data Type for `timestamp`.\n",
    "8. False Dog Predictions.\n",
    "10. Image predictions doesn't have inconsistent cases (uppercase and lowercase)\n",
    "12. Unnecessary Columns\n",
    "<br>\n",
    "<br>\n",
    "\n",
    "**Tidiness Issues**\n",
    "1. Redundant Dog Stage Columns\n",
    "2. Merging Datasets on `tweet_id`\n",
    "3. Many Information in `text` columns\n",
    "4. Dog Stage have multiple values\n",
    "5. Inconsistent Rating Denominators/Numerators."
   ]
  },
  {
   "cell_type": "markdown",
   "metadata": {},
   "source": [
    "<h2 style=\"color: green\">Cleaning 🧹</h2>\n",
    "\n",
    "We're required to access and clean at least **8 quality issues** and at least **2 tidiness** issues in this dataset. <br>I provided **10 quality issues** and **5 tidiness issues**"
   ]
  },
  {
   "cell_type": "markdown",
   "metadata": {},
   "source": [
    "<h2 style=\"color: green\">Storing 📦</h2>\n",
    "\n",
    "Now, after finishing the cleaning phase according to the assessment we performed. as long as we reached for now, I now need to store the dataset cleaned into a dataset. But I needed to check on the dataset and perform a last round of assessment.\n",
    "\n",
    "I've put the dataframe **df_clean** in a new **CSV** file after I finished the last assessment round."
   ]
  },
  {
   "cell_type": "markdown",
   "metadata": {},
   "source": [
    "<h2 style=\"color: green\">Analysis & Visualization 📊</h2>\n",
    "\n",
    "<u><i>Performed in a separate report `act_report`</i></u>"
   ]
  },
  {
   "cell_type": "markdown",
   "metadata": {},
   "source": [
    "<h2 style=\"color: green\">Conclusions 🌟🌟</h2>\n",
    "\n",
    "After this whole wrangling process, I learnt that:\n",
    "\n",
    "* The WeRateDogs Twitter account experienced significant growth in user engagement from late 2015 to mid-2017. The increasing trends in both favorite and retweet counts reflect the rising popularity of the account. Peaks in the data indicate periods of particularly high engagement, possibly due to viral content or notable events. The consistently higher favorite counts compared to retweet counts align with typical Twitter user behavior."
   ]
  }
 ],
 "metadata": {
  "kernelspec": {
   "display_name": "Python 3 (ipykernel)",
   "language": "python",
   "name": "python3"
  },
  "language_info": {
   "codemirror_mode": {
    "name": "ipython",
    "version": 3
   },
   "file_extension": ".py",
   "mimetype": "text/x-python",
   "name": "python",
   "nbconvert_exporter": "python",
   "pygments_lexer": "ipython3",
   "version": "3.12.4"
  }
 },
 "nbformat": 4,
 "nbformat_minor": 4
}
